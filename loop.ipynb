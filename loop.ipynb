{
  "nbformat": 4,
  "nbformat_minor": 0,
  "metadata": {
    "colab": {
      "provenance": [],
      "authorship_tag": "ABX9TyPQz48nkklBLS1gYvpmK/UI",
      "include_colab_link": true
    },
    "kernelspec": {
      "name": "python3",
      "display_name": "Python 3"
    },
    "language_info": {
      "name": "python"
    }
  },
  "cells": [
    {
      "cell_type": "markdown",
      "metadata": {
        "id": "view-in-github",
        "colab_type": "text"
      },
      "source": [
        "<a href=\"https://colab.research.google.com/github/ROBINSEBASTIAN860/python-1/blob/main/loop.ipynb\" target=\"_parent\"><img src=\"https://colab.research.google.com/assets/colab-badge.svg\" alt=\"Open In Colab\"/></a>"
      ]
    },
    {
      "cell_type": "code",
      "execution_count": 1,
      "metadata": {
        "colab": {
          "base_uri": "https://localhost:8080/"
        },
        "id": "XRAq31-louXi",
        "outputId": "292c811a-5ca0-4f45-e807-603cdcd947b7"
      },
      "outputs": [
        {
          "output_type": "stream",
          "name": "stdout",
          "text": [
            "enter the travel source kerala\n",
            "enter the travel destination tamilnadu\n",
            "enter no of passengers 20\n",
            " kerala  tamilnadu 20\n"
          ]
        }
      ],
      "source": [
        "m1=input(\"enter the travel source\")\n",
        "m2=input(\"enter the travel destination\")\n",
        "m3=int(input(\"enter no of passengers\"))\n",
        "print(m1,m2,m3)"
      ]
    },
    {
      "cell_type": "code",
      "source": [
        "m1=int(input(\"total amount of ticket\"))\n",
        "m2=int(input(\"no of passengers\"))\n",
        "totalamount=print(m1/m2)"
      ],
      "metadata": {
        "colab": {
          "base_uri": "https://localhost:8080/"
        },
        "id": "8Pf5peYXpvom",
        "outputId": "bb214e65-e316-467e-d87e-bf73f35b7f26"
      },
      "execution_count": 2,
      "outputs": [
        {
          "output_type": "stream",
          "name": "stdout",
          "text": [
            "total amount of ticket30\n",
            "no of passengers 20\n",
            "1.5\n"
          ]
        }
      ]
    },
    {
      "cell_type": "code",
      "source": [
        "m1=(input(\"name of the passenger\"))\n",
        "m2=int(input(\"amount of the ticket\"))\n",
        "print(m1,m2)"
      ],
      "metadata": {
        "colab": {
          "base_uri": "https://localhost:8080/"
        },
        "id": "bzHvitPEqcFC",
        "outputId": "f1b0f8b7-d226-452a-869e-81df3fe95f50"
      },
      "execution_count": 7,
      "outputs": [
        {
          "output_type": "stream",
          "name": "stdout",
          "text": [
            "name of the passenger abcd\n",
            "amount of the ticket 10\n",
            " abcd 10\n"
          ]
        }
      ]
    },
    {
      "cell_type": "code",
      "source": [
        "if m1>10000:\n",
        "  print(\"eligible\")\n",
        "else:\n",
        "  print(\"not eligible\")"
      ],
      "metadata": {
        "colab": {
          "base_uri": "https://localhost:8080/"
        },
        "id": "td2sK6S-smrs",
        "outputId": "69590670-3488-4016-ecf4-50f3498c70b9"
      },
      "execution_count": 10,
      "outputs": [
        {
          "output_type": "stream",
          "name": "stdout",
          "text": [
            "total ticket fare500\n",
            "not eligible\n"
          ]
        }
      ]
    },
    {
      "cell_type": "code",
      "source": [
        "m1=int(input(\"total ticket fare\"))\n",
        "if m1>15000:\n",
        "  print(\"eligible for  20% discount\")\n",
        "if m1<15000:\n",
        "  print(\"eligible for 10% discount\")\n"
      ],
      "metadata": {
        "colab": {
          "base_uri": "https://localhost:8080/"
        },
        "id": "JH7uTSn4vOnN",
        "outputId": "b39d4f50-e7bb-4124-cd0d-6afc91583d84"
      },
      "execution_count": 12,
      "outputs": [
        {
          "output_type": "stream",
          "name": "stdout",
          "text": [
            "total ticket fare 1000\n",
            "eligible for 10% discount\n"
          ]
        }
      ]
    },
    {
      "cell_type": "code",
      "source": [
        "x=int(input(\"Total TIcket Fare \"))\n",
        "if x>15000:\n",
        "  print(\"Eligible for 20% discount\")\n",
        "  print(x*20/100)\n",
        "else:\n",
        "  print(\"Eligible for 10% discount\")\n",
        "  print(x*10/100)\n"
      ],
      "metadata": {
        "colab": {
          "base_uri": "https://localhost:8080/"
        },
        "id": "aYuOwZoXxAHB",
        "outputId": "665aa0d2-1733-4183-c8e4-bc13e7ff7c5c"
      },
      "execution_count": 14,
      "outputs": [
        {
          "output_type": "stream",
          "name": "stdout",
          "text": [
            "Total TIcket Fare 5000\n",
            "Eligible for 10% discount\n",
            "500.0\n"
          ]
        }
      ]
    },
    {
      "cell_type": "code",
      "source": [
        "x=int(input(\"Enter A Number \"))\n",
        "if x%2==0:\n",
        "  print(\"The Number is positive\")\n",
        "elif x%2!=0:\n",
        "  print(\"The Number is negative\")\n",
        "else:\n",
        "  print(\"Number is Zero\")\n"
      ],
      "metadata": {
        "colab": {
          "base_uri": "https://localhost:8080/"
        },
        "id": "5nRnhwf8yImA",
        "outputId": "9dc57c50-0d3d-4d8f-f5af-0c46c7eb0b28"
      },
      "execution_count": 16,
      "outputs": [
        {
          "output_type": "stream",
          "name": "stdout",
          "text": [
            "Enter A Number 10\n",
            "The Number is positive\n"
          ]
        }
      ]
    },
    {
      "cell_type": "code",
      "source": [
        "x=int(input(\"Age of Passenger \"))\n",
        "if x>18:\n",
        "  print(\"Adult\")\n",
        "elif x>12 and x<18:\n",
        "  print(\"Teenager\")\n",
        "elif x>5 and x<11:\n",
        "  print(\"Kid\")\n",
        "else:\n",
        "  print(\"Infant\")\n"
      ],
      "metadata": {
        "colab": {
          "base_uri": "https://localhost:8080/"
        },
        "id": "lvpqwUrqyvv5",
        "outputId": "5c80f9a0-a8f1-40de-d168-8c6d4847ece6"
      },
      "execution_count": 17,
      "outputs": [
        {
          "output_type": "stream",
          "name": "stdout",
          "text": [
            "Age of Passenger 105\n",
            "Adult\n"
          ]
        }
      ]
    },
    {
      "cell_type": "code",
      "source": [
        "x=input(\"Passengers Initial \")\n",
        "if x==\"a\":\n",
        "  print(\"Vowel\")\n",
        "elif x==\"e\":\n",
        "  print(\"Vowel\")\n",
        "elif x==\"i\":\n",
        "  print(\"Vowel\")\n",
        "elif x==\"o\":\n",
        "  print(\"Vowel\")\n",
        "elif x==\"u\":\n",
        "  print(\"Vowel\")\n",
        "else:\n",
        "  print(\"Not Vowel\")"
      ],
      "metadata": {
        "colab": {
          "base_uri": "https://localhost:8080/"
        },
        "id": "BDoQQ6wSzven",
        "outputId": "a0d0c0a8-725d-48a3-f1c6-be087e805543"
      },
      "execution_count": 22,
      "outputs": [
        {
          "output_type": "stream",
          "name": "stdout",
          "text": [
            "Passengers Initial e\n",
            "Vowel\n"
          ]
        }
      ]
    },
    {
      "cell_type": "code",
      "source": [
        "x=\"robin sebasian\"\n",
        "for a in x:\n",
        "  print(a)"
      ],
      "metadata": {
        "colab": {
          "base_uri": "https://localhost:8080/"
        },
        "id": "9HhrypaR2NiZ",
        "outputId": "9476a3fa-1b5d-47e6-e3f7-f2afb3948ffa"
      },
      "execution_count": 26,
      "outputs": [
        {
          "output_type": "stream",
          "name": "stdout",
          "text": [
            "r\n",
            "o\n",
            "b\n",
            "i\n",
            "n\n",
            " \n",
            "s\n",
            "e\n",
            "b\n",
            "a\n",
            "s\n",
            "i\n",
            "a\n",
            "n\n"
          ]
        }
      ]
    },
    {
      "cell_type": "code",
      "source": [
        "for i in range(45,87,2):\n",
        "  print(i)"
      ],
      "metadata": {
        "colab": {
          "base_uri": "https://localhost:8080/"
        },
        "id": "4QeAMDVu5ogz",
        "outputId": "fe6d0c12-445b-4bbe-e3fb-29042e1c445c"
      },
      "execution_count": 27,
      "outputs": [
        {
          "output_type": "stream",
          "name": "stdout",
          "text": [
            "45\n",
            "47\n",
            "49\n",
            "51\n",
            "53\n",
            "55\n",
            "57\n",
            "59\n",
            "61\n",
            "63\n",
            "65\n",
            "67\n",
            "69\n",
            "71\n",
            "73\n",
            "75\n",
            "77\n",
            "79\n",
            "81\n",
            "83\n",
            "85\n"
          ]
        }
      ]
    },
    {
      "cell_type": "code",
      "source": [],
      "metadata": {
        "id": "G1YMCzep7POI"
      },
      "execution_count": null,
      "outputs": []
    }
  ]
}